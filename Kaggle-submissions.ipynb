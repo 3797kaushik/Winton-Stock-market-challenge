{
 "cells": [
  {
   "cell_type": "code",
   "execution_count": 0,
   "metadata": {
    "colab": {},
    "colab_type": "code",
    "id": "aQE1PNamFWTG"
   },
   "outputs": [],
   "source": [
    "import pandas as pd\n",
    "import numpy as np\n",
    "from sklearn.preprocessing import Imputer,StandardScaler, MinMaxScaler\n",
    "import matplotlib.pyplot as plt\n",
    "from progressbar import ProgressBar\n",
    "import xgboost as xgb\n",
    "\n",
    "from sklearn import ensemble\n",
    "from sklearn.ensemble import ExtraTreesRegressor\n",
    "from sklearn.metrics import mean_squared_error\n",
    "\n",
    "from keras.models import Sequential\n",
    "from keras.layers import Activation, Dense, Dropout, LSTM, Masking\n",
    "from keras.wrappers.scikit_learn import KerasRegressor\n",
    "from sklearn.model_selection import cross_val_score, KFold, train_test_split\n",
    "from keras.callbacks import ModelCheckpoint  \n",
    "\n",
    "import warnings\n",
    "warnings.filterwarnings('ignore')"
   ]
  },
  {
   "cell_type": "code",
   "execution_count": 3,
   "metadata": {
    "colab": {
     "base_uri": "https://localhost:8080/",
     "height": 73,
     "resources": {
      "http://localhost:8080/nbextensions/google.colab/files.js": {
       "data": "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",
       "headers": [
        [
         "content-type",
         "application/javascript"
        ]
       ],
       "ok": true,
       "status": 200,
       "status_text": ""
      }
     }
    },
    "colab_type": "code",
    "id": "P7IacQwQFbcB",
    "outputId": "f81441b8-c4f6-45e0-8c20-6ca971981b06"
   },
   "outputs": [
    {
     "data": {
      "text/html": [
       "\n",
       "     <input type=\"file\" id=\"files-978d772d-0fc9-4283-90f5-970eeb539ddd\" name=\"files[]\" multiple disabled />\n",
       "     <output id=\"result-978d772d-0fc9-4283-90f5-970eeb539ddd\">\n",
       "      Upload widget is only available when the cell has been executed in the\n",
       "      current browser session. Please rerun this cell to enable.\n",
       "      </output>\n",
       "      <script src=\"/nbextensions/google.colab/files.js\"></script> "
      ],
      "text/plain": [
       "<IPython.core.display.HTML object>"
      ]
     },
     "metadata": {
      "tags": []
     },
     "output_type": "display_data"
    },
    {
     "name": "stdout",
     "output_type": "stream",
     "text": [
      "Saving kaggle.json to kaggle.json\n"
     ]
    }
   ],
   "source": [
    "from google.colab import files\n",
    "files.upload()\n",
    "!pip install -q kaggle\n",
    "!mkdir -p ~/.kaggle\n",
    "!cp kaggle.json ~/.kaggle/\n",
    "\n",
    "# This permissions change avoids a warning on Kaggle tool startup.\n",
    "!chmod 600 ~/.kaggle/kaggle.json"
   ]
  },
  {
   "cell_type": "code",
   "execution_count": 4,
   "metadata": {
    "colab": {
     "base_uri": "https://localhost:8080/",
     "height": 350
    },
    "colab_type": "code",
    "id": "hADQuWqTdaL0",
    "outputId": "1e04355f-685a-4501-d4ab-b028e50dd5a1"
   },
   "outputs": [
    {
     "name": "stdout",
     "output_type": "stream",
     "text": [
      "Warning: Looks like you're using an outdated API Version, please consider updating (server 1.5.6 / client 1.5.4)\n",
      "Downloading train.csv.zip to /content\n",
      " 80% 58.0M/72.7M [00:00<00:00, 44.7MB/s]\n",
      "100% 72.7M/72.7M [00:00<00:00, 78.8MB/s]\n",
      "Downloading sample_submission_2.csv.zip to /content\n",
      "100% 16.1M/16.1M [00:01<00:00, 17.5MB/s]\n",
      "\n",
      "Downloading test_2.csv.zip to /content\n",
      " 95% 109M/114M [00:00<00:00, 106MB/s]  \n",
      "100% 114M/114M [00:01<00:00, 116MB/s]\n",
      "Archive:  train.csv.zip\n",
      "  inflating: train.csv               \n",
      "   creating: __MACOSX/\n",
      "  inflating: __MACOSX/._train.csv    \n",
      "Archive:  test_2.csv.zip\n",
      "  inflating: test_2.csv              \n",
      "  inflating: __MACOSX/._test_2.csv   \n",
      "Archive:  sample_submission_2.csv.zip\n",
      "  inflating: sample_submission_2.csv  \n",
      "  inflating: __MACOSX/._sample_submission_2.csv  \n"
     ]
    }
   ],
   "source": [
    "# downloading the kaggle data\n",
    "!kaggle competitions download -c the-winton-stock-market-challenge\n",
    "!unzip train.csv.zip\n",
    "!unzip test_2.csv.zip\n",
    "!unzip sample_submission_2.csv.zip"
   ]
  },
  {
   "cell_type": "markdown",
   "metadata": {},
   "source": [
    "As the below Xgboost taked 16 hours to complete all the 6 rows i have ran the below cell by changing the indexes"
   ]
  },
  {
   "cell_type": "code",
   "execution_count": 0,
   "metadata": {
    "colab": {
     "base_uri": "https://localhost:8080/",
     "height": 540
    },
    "colab_type": "code",
    "id": "1C4O5UkzFgGO",
    "outputId": "0bd1f506-5594-4aba-b647-6e669429bedb"
   },
   "outputs": [
    {
     "name": "stdout",
     "output_type": "stream",
     "text": [
      "Warning: Looks like you're using an outdated API Version, please consider updating (server 1.5.6 / client 1.5.4)\n",
      "Downloading train.csv.zip to /content\n",
      " 83% 60.0M/72.7M [00:00<00:00, 75.9MB/s]\n",
      "100% 72.7M/72.7M [00:00<00:00, 148MB/s] \n",
      "Downloading sample_submission_2.csv.zip to /content\n",
      " 37% 6.00M/16.1M [00:00<00:00, 62.8MB/s]\n",
      "100% 16.1M/16.1M [00:00<00:00, 103MB/s] \n",
      "Downloading test_2.csv.zip to /content\n",
      " 94% 108M/114M [00:01<00:00, 90.3MB/s] \n",
      "100% 114M/114M [00:01<00:00, 88.2MB/s]\n",
      "Archive:  train.csv.zip\n",
      "  inflating: train.csv               \n",
      "   creating: __MACOSX/\n",
      "  inflating: __MACOSX/._train.csv    \n",
      "Archive:  test_2.csv.zip\n",
      "  inflating: test_2.csv              \n",
      "  inflating: __MACOSX/._test_2.csv   \n",
      "Archive:  sample_submission_2.csv.zip\n",
      "  inflating: sample_submission_2.csv  \n",
      "  inflating: __MACOSX/._sample_submission_2.csv  \n"
     ]
    },
    {
     "name": "stderr",
     "output_type": "stream",
     "text": [
      "100% (18 of 18) |########################| Elapsed Time: 5:10:26 Time:  5:10:26\n"
     ]
    },
    {
     "name": "stdout",
     "output_type": "stream",
     "text": [
      "               Id  Predicted\n",
      "99999   100000_45   0.000114\n",
      "219999  100000_46  -0.000053\n",
      "339999  100000_47  -0.000194\n",
      "459999  100000_48  -0.000068\n",
      "579999  100000_49   0.000265\n",
      "CPU times: user 10h 18min 52s, sys: 10.7 s, total: 10h 19min 3s\n",
      "Wall time: 5h 11min 3s\n"
     ]
    }
   ],
   "source": [
    "%%time\n",
    "\n",
    "# downloading the kaggle data\n",
    "!kaggle competitions download -c the-winton-stock-market-challenge\n",
    "!unzip train.csv.zip\n",
    "!unzip test_2.csv.zip\n",
    "!unzip sample_submission_2.csv.zip\n",
    "\n",
    "training_csv = pd.read_csv('train.csv', index_col=0)\n",
    "testing_csv = pd.read_csv('test_2.csv', index_col=0)\n",
    "\n",
    "model_parameters = {'max_depth': 10, \n",
    "                    'eta': 0.1,\n",
    "                    'silent': 1, \n",
    "                    'gamma': 0, \n",
    "                    'lambda': 500,\n",
    "                    'alpha': 400,\n",
    "                    'verbose':0}\n",
    "number_of_rounds = 500\n",
    "# https://stackoverflow.com/questions/24147278/how-do-i-create-test-and-train-samples-from-one-dataframe-with-pandas\n",
    "# msk = np.random.rand(len(df)) < 0.8\n",
    "# print(msk)\n",
    "# training_csv = df[msk]\n",
    "# testing_csv = df[~msk]\n",
    "res =  pd.DataFrame()\n",
    "\n",
    "mse_list=[]\n",
    "major_list=[]\n",
    "pro =ProgressBar()\n",
    "\n",
    "training_data = training_csv.drop(training_csv.columns[range(146, 210)], axis=1)\n",
    "# testing_data = testing_csv.drop(testing_csv.columns[range(146, 210)], axis=1)\n",
    "\n",
    "training_data = training_data.values\n",
    "testing_data = testing_csv.values\n",
    "\n",
    "# as we plot only Ret_1 for every model to compare test prediction and actual value\n",
    "plot_res =  pd.DataFrame()\n",
    "for Number in pro(range(45,63)): # From 1 to 62\n",
    "\n",
    "    if Number == 61:\n",
    "        name_of_column = 'Ret_PlusOne'\n",
    "        name_of_weight = 'Weight_Daily'\n",
    "    elif Number == 62:\n",
    "        name_of_column = 'Ret_PlusTwo'\n",
    "        name_of_weight = 'Weight_Daily'\n",
    "    else:\n",
    "        name_of_column = 'Ret_'+str(Number+120)\n",
    "        name_of_weight = 'Weight_Intraday'\n",
    "\n",
    "\n",
    "    train_targets = training_csv[name_of_column].values\n",
    "    train_weights = training_csv[name_of_weight].values\n",
    "    training_data = training_csv.drop(training_csv.columns[range(146, 210)], axis=1)\n",
    "    training_data = training_data.values\n",
    "    testing_data = testing_csv.values\n",
    "\n",
    "    data_train = xgb.DMatrix(training_data, label=train_targets, missing=np.NaN, weight=train_weights)\n",
    "    data_test = xgb.DMatrix(testing_data, missing=np.NaN)\n",
    "\n",
    "    model_parameters = {'max_depth': 10, 'eta': 0.1, 'silent': 1, 'gamma': 0, 'lambda': 500, 'alpha': 400}\n",
    "    number_of_rounds = 500\n",
    "\n",
    "    watchlist = [(data_train, 'train')]\n",
    "    bst = xgb.train(model_parameters, data_train, number_of_rounds, watchlist, early_stopping_rounds=10,verbose_eval=0)\n",
    "\n",
    "    predictions = bst.predict(data_test)\n",
    "    for ID, P in enumerate(predictions):\n",
    "        major_list.append({'Id': str(ID+1)+'_'+str(Number), 'Predicted': P})\n",
    "\n",
    "output = pd.DataFrame(data=major_list)\n",
    "output.sort_values(by='Id', inplace=True)\n",
    "output.to_csv(path_or_buf=\"output30.csv\",index=False)\n",
    "print(output.head())"
   ]
  },
  {
   "cell_type": "code",
   "execution_count": 1,
   "metadata": {
    "colab": {
     "base_uri": "https://localhost:8080/",
     "height": 120
    },
    "colab_type": "code",
    "id": "Eh1aqJPZGMNM",
    "outputId": "00670863-2719-4177-9309-d99002c9f6d0"
   },
   "outputs": [
    {
     "name": "stdout",
     "output_type": "stream",
     "text": [
      "Go to this URL in a browser: https://accounts.google.com/o/oauth2/auth?client_id=947318989803-6bn6qk8qdgf4n4g3pfee6491hc0brc4i.apps.googleusercontent.com&redirect_uri=urn%3Aietf%3Awg%3Aoauth%3A2.0%3Aoob&scope=email%20https%3A%2F%2Fwww.googleapis.com%2Fauth%2Fdocs.test%20https%3A%2F%2Fwww.googleapis.com%2Fauth%2Fdrive%20https%3A%2F%2Fwww.googleapis.com%2Fauth%2Fdrive.photos.readonly%20https%3A%2F%2Fwww.googleapis.com%2Fauth%2Fpeopleapi.readonly&response_type=code\n",
      "\n",
      "Enter your authorization code:\n",
      "··········\n",
      "Mounted at /content/drive\n"
     ]
    }
   ],
   "source": [
    "import shutil\n",
    "from google.colab import drive\n",
    "drive.mount('/content/drive',force_remount=True)\n",
    "path='drive/My Drive/AAIC/'"
   ]
  },
  {
   "cell_type": "code",
   "execution_count": 0,
   "metadata": {
    "colab": {
     "base_uri": "https://localhost:8080/",
     "height": 33
    },
    "colab_type": "code",
    "id": "oJKBk4yfTMOT",
    "outputId": "0fef9280-99ad-4349-bc57-13dc76e267ce"
   },
   "outputs": [
    {
     "name": "stdout",
     "output_type": "stream",
     "text": [
      "/bin/bash: google-drive-ocamlfuse: command not found\n"
     ]
    }
   ],
   "source": [
    "!google-drive-ocamlfuse -cc"
   ]
  },
  {
   "cell_type": "code",
   "execution_count": 0,
   "metadata": {
    "colab": {
     "base_uri": "https://localhost:8080/",
     "height": 35
    },
    "colab_type": "code",
    "id": "yBqco5PXsxQy",
    "outputId": "fe03bc1b-634f-4017-b829-71e2d3428f2b"
   },
   "outputs": [
    {
     "data": {
      "text/plain": [
       "'drive/My Drive/AAIC/output60.csv'"
      ]
     },
     "execution_count": 6,
     "metadata": {
      "tags": []
     },
     "output_type": "execute_result"
    }
   ],
   "source": [
    "path='drive/My Drive/AAIC'\n",
    "output.to_csv(path_or_buf=\"output60.csv\",index=True)\n",
    "shutil.copy('output60.csv',path)"
   ]
  },
  {
   "cell_type": "code",
   "execution_count": 0,
   "metadata": {
    "colab": {},
    "colab_type": "code",
    "id": "-BzKie9cW0Qh"
   },
   "outputs": [],
   "source": [
    "# 1 \n",
    "path='drive/My Drive/AAIC'\n",
    "df1=pd.read_csv(path+\"/output15.csv\",index_col='Unnamed: 0')\n",
    "df2=pd.read_csv(path+\"/output30.csv\",index_col='Unnamed: 0')\n",
    "df3=pd.read_csv(path+\"/output45.csv\")\n",
    "df4=pd.read_csv(path+\"/output60.csv\",index_col='Unnamed: 0')\n",
    "# df1.head()"
   ]
  },
  {
   "cell_type": "code",
   "execution_count": 0,
   "metadata": {
    "colab": {},
    "colab_type": "code",
    "id": "siawXfUGb39Z"
   },
   "outputs": [],
   "source": [
    "dict1 = dict(zip(df1.Id, df1.Predicted))\n",
    "dict2 = dict(zip(df2.Id, df2.Predicted))\n",
    "dict3 = dict(zip(df3.Id, df3.Predicted))\n",
    "dict4 = dict(zip(df4.Id, df4.Predicted))"
   ]
  },
  {
   "cell_type": "code",
   "execution_count": 0,
   "metadata": {
    "colab": {
     "base_uri": "https://localhost:8080/",
     "height": 35
    },
    "colab_type": "code",
    "id": "_Qsp8YQIcxLs",
    "outputId": "8f99d72f-cf3a-41d4-de56-4c6beaa570e0"
   },
   "outputs": [
    {
     "data": {
      "text/plain": [
       "7440000"
      ]
     },
     "execution_count": 52,
     "metadata": {
      "tags": []
     },
     "output_type": "execute_result"
    }
   ],
   "source": [
    "len(dict4.items())"
   ]
  },
  {
   "cell_type": "code",
   "execution_count": 0,
   "metadata": {
    "colab": {},
    "colab_type": "code",
    "id": "KnXVxyKpclIp"
   },
   "outputs": [],
   "source": [
    "dict2.update(dict1)\n",
    "dict3.update(dict2)\n",
    "dict4.update(dict3)"
   ]
  },
  {
   "cell_type": "code",
   "execution_count": 0,
   "metadata": {
    "colab": {},
    "colab_type": "code",
    "id": "ODo8Ek1ic2sU"
   },
   "outputs": [],
   "source": [
    "files_path=''\n",
    "df = pd.read_csv(files_path+'train.csv')\n",
    "df.fillna(df.mean(axis=0), inplace=True)\n",
    "\n",
    "first = ['Id']\n",
    "allcol = ['Ret_121','Ret_122','Ret_123','Ret_124','Ret_125','Ret_126','Ret_127','Ret_128','Ret_129','Ret_130',\n",
    "'Ret_131','Ret_132','Ret_133','Ret_134','Ret_135','Ret_136','Ret_137','Ret_138','Ret_139','Ret_140','Ret_141',\n",
    "'Ret_142','Ret_143','Ret_144','Ret_145','Ret_146','Ret_147','Ret_148','Ret_149','Ret_150','Ret_151','Ret_152',\n",
    "'Ret_153','Ret_154','Ret_155','Ret_156','Ret_157','Ret_158','Ret_159','Ret_160','Ret_161','Ret_162','Ret_163',\n",
    "'Ret_164','Ret_165','Ret_166','Ret_167','Ret_168','Ret_169','Ret_170','Ret_171','Ret_172','Ret_173','Ret_174',\n",
    "'Ret_175','Ret_176','Ret_177','Ret_178','Ret_179','Ret_180','Ret_PlusOne','Ret_PlusTwo']\n",
    "\n",
    "total = first + allcol\n",
    "feature_cols = [col for col in df.columns if col not in total] \n",
    "\n",
    "intraDay_cols = ['Ret_PlusOne','Ret_PlusTwo']\n",
    "X = df[feature_cols] # .loc[:, 'Feature_1':'Ret_120'] \n",
    "y = df[intraDay_cols] #.loc[:, 'Ret_121':'Weight_Daily'] \n",
    "\n",
    "\n",
    "dailyReturn_cols = ['Ret_121','Ret_122','Ret_123','Ret_124','Ret_125','Ret_126','Ret_127','Ret_128','Ret_129','Ret_130',\n",
    "'Ret_131','Ret_132','Ret_133','Ret_134','Ret_135','Ret_136','Ret_137','Ret_138','Ret_139','Ret_140','Ret_141',\n",
    "'Ret_142','Ret_143','Ret_144','Ret_145','Ret_146','Ret_147','Ret_148','Ret_149','Ret_150','Ret_151','Ret_152',\n",
    "'Ret_153','Ret_154','Ret_155','Ret_156','Ret_157','Ret_158','Ret_159','Ret_160','Ret_161','Ret_162','Ret_163',\n",
    "'Ret_164','Ret_165','Ret_166','Ret_167','Ret_168','Ret_169','Ret_170','Ret_171','Ret_172','Ret_173','Ret_174',\n",
    "'Ret_175','Ret_176','Ret_177','Ret_178','Ret_179','Ret_180']\n",
    "X_train_raw, X_test_raw, y_train_raw, y_test_raw = train_test_split(X, y, test_size=0.20, random_state=42)"
   ]
  },
  {
   "cell_type": "code",
   "execution_count": 0,
   "metadata": {
    "colab": {},
    "colab_type": "code",
    "id": "tYpJzDCfgSxC"
   },
   "outputs": [],
   "source": [
    "X_train_raw = X\n",
    "y_train_raw = y"
   ]
  },
  {
   "cell_type": "code",
   "execution_count": 0,
   "metadata": {
    "colab": {},
    "colab_type": "code",
    "id": "9ANv0aT2g8dK"
   },
   "outputs": [],
   "source": [
    "df_test = pd.read_csv(files_path+'test_2.csv')\n",
    "df_test.fillna(df_test.mean(axis=0), inplace=True)\n",
    "feature_cols = [col for col in df_test.columns if col not in total] \n",
    "X_test_intraday = df_test[feature_cols] # .loc[:, 'Feature_1':'Ret_120'] \n",
    "# y_test_intraday = df_test[allcol] #.loc[:, 'Ret_121':'Weight_Daily'] "
   ]
  },
  {
   "cell_type": "code",
   "execution_count": 0,
   "metadata": {
    "colab": {
     "base_uri": "https://localhost:8080/",
     "height": 83
    },
    "colab_type": "code",
    "id": "4_kasjdRcdov",
    "outputId": "81101b95-3c56-4a2c-8f72-0a94c833876d"
   },
   "outputs": [
    {
     "name": "stdout",
     "output_type": "stream",
     "text": [
      "No of repeatitions :  119\n",
      "No of repeatitions :  2\n",
      "No of repeatitions :  119\n",
      "No of repeatitions :  2\n"
     ]
    }
   ],
   "source": [
    "def preprocess_data(x_raw, y_raw):\n",
    "    # top 25 features\n",
    "    features = x_raw.loc[:, 'Feature_1':'Feature_25'].values[:, None, :]\n",
    "\n",
    "    # 120 return values\n",
    "    returns_intraday = x_raw.loc[:, 'Ret_2':'Ret_120'].values[:, :, None]\n",
    "    print(\"No of repeatitions : \",returns_intraday.shape[1])\n",
    "    \n",
    "    features_repeated = np.repeat(features, returns_intraday.shape[1], axis=1)\n",
    "    X_intraday = np.dstack((features_repeated, returns_intraday))\n",
    "    \n",
    "    returns_daily = x_raw.loc[:, 'Ret_MinusTwo':'Ret_MinusOne'].values[:, :, None]\n",
    "    print(\"No of repeatitions : \",returns_daily.shape[1])\n",
    "    features_repeated = np.repeat(features, returns_daily.shape[1], axis=1)\n",
    "    X_daily = np.dstack((features_repeated, returns_daily))\n",
    "    \n",
    "    # targets should consist of returns only\n",
    "    y_intraday = y_raw.loc[:, 'Ret_121':'Ret_180']\n",
    "    y_daily = y_raw.loc[:, 'Ret_PlusOne':'Ret_PlusTwo']\n",
    "    \n",
    "    return X_intraday, X_daily, y_intraday, y_daily\n",
    "  \n",
    "X_train_intraday, X_train_daily, y_train_intraday, y_train_daily = preprocess_data(X_train_raw, y_train_raw)    \n",
    "X_test_intraday, X_test_daily, y_test_intraday, y_test_daily= preprocess_data(X_test_raw, y_test_raw)  "
   ]
  },
  {
   "cell_type": "code",
   "execution_count": 0,
   "metadata": {
    "colab": {
     "base_uri": "https://localhost:8080/",
     "height": 35
    },
    "colab_type": "code",
    "id": "TTh5aUFQlNnP",
    "outputId": "a519faf4-4ed6-4290-d4bf-27688ada30b1"
   },
   "outputs": [
    {
     "data": {
      "text/plain": [
       "(8000, 119, 26)"
      ]
     },
     "execution_count": 32,
     "metadata": {
      "tags": []
     },
     "output_type": "execute_result"
    }
   ],
   "source": [
    "# should be ignored y_test_intraday \n",
    "X_test_intraday.shape"
   ]
  },
  {
   "cell_type": "code",
   "execution_count": 0,
   "metadata": {
    "colab": {
     "base_uri": "https://localhost:8080/",
     "height": 657
    },
    "colab_type": "code",
    "id": "pJKQEiU2cdgm",
    "outputId": "4efcb31c-b690-4b98-c907-f57756aa1b78"
   },
   "outputs": [
    {
     "name": "stdout",
     "output_type": "stream",
     "text": [
      "Model: \"sequential_2\"\n",
      "_________________________________________________________________\n",
      "Layer (type)                 Output Shape              Param #   \n",
      "=================================================================\n",
      "masking_2 (Masking)          (None, 119, 26)           0         \n",
      "_________________________________________________________________\n",
      "lstm_2 (LSTM)                (None, 250)               277000    \n",
      "_________________________________________________________________\n",
      "dropout_3 (Dropout)          (None, 250)               0         \n",
      "_________________________________________________________________\n",
      "dense_3 (Dense)              (None, 500)               125500    \n",
      "_________________________________________________________________\n",
      "dropout_4 (Dropout)          (None, 500)               0         \n",
      "_________________________________________________________________\n",
      "dense_4 (Dense)              (None, 60)                30060     \n",
      "_________________________________________________________________\n",
      "activation_2 (Activation)    (None, 60)                0         \n",
      "=================================================================\n",
      "Total params: 432,560\n",
      "Trainable params: 432,560\n",
      "Non-trainable params: 0\n",
      "_________________________________________________________________\n",
      "None\n",
      "Train on 30000 samples, validate on 10000 samples\n",
      "Epoch 1/3\n",
      "30000/30000 [==============================] - 224s 7ms/step - loss: 0.0071 - val_loss: 6.3552e-04\n",
      "\n",
      "Epoch 00001: val_loss improved from inf to 0.00064, saving model to best_weights_intraday.hdf5\n",
      "Epoch 2/3\n",
      "30000/30000 [==============================] - 221s 7ms/step - loss: 6.3243e-04 - val_loss: 6.3552e-04\n",
      "\n",
      "Epoch 00002: val_loss did not improve from 0.00064\n",
      "Epoch 3/3\n",
      "30000/30000 [==============================] - 222s 7ms/step - loss: 6.3239e-04 - val_loss: 6.3552e-04\n",
      "\n",
      "Epoch 00003: val_loss did not improve from 0.00064\n"
     ]
    }
   ],
   "source": [
    "def build_lstm_model(input_data, output_size, neurons=20, activ_func='relu',\n",
    "                     dropout=.4, loss='mae', loss_weights=None, sample_weight_mode=None,\n",
    "                     optimizer='adam'):\n",
    "    model = Sequential()\n",
    "    # https://stackoverflow.com/questions/49670832/keras-lstm-with-masking-layer-for-variable-length-inputs\n",
    "    # https://www.quora.com/What-is-masking-in-a-recurrent-neural-network-RNN\n",
    "    model.add(Masking(mask_value=0., input_shape=(input_data.shape[1], input_data.shape[2])))\n",
    "    model.add(LSTM(neurons, input_shape=(input_data.shape[1], input_data.shape[2])))\n",
    "\n",
    "    model.add(Dropout(dropout))\n",
    "    model.add(Dense(units=2 * neurons))\n",
    "    model.add(Dropout(dropout))\n",
    "    model.add(Dense(units=output_size))\n",
    "    model.add(Activation(activ_func))\n",
    "    model.compile(loss=loss, loss_weights=loss_weights, sample_weight_mode=sample_weight_mode, optimizer=optimizer)\n",
    "    print(model.summary())\n",
    "    return model\n",
    "  \n",
    "lstm_neurons = 250\n",
    "epochs = 3\n",
    "batch_size = 500\n",
    "loss = 'mae'\n",
    "dropout = 0.20\n",
    "optimizer = 'adam'\n",
    "activ_func = 'relu'\n",
    "\n",
    "checkpointer_intraday = ModelCheckpoint(filepath='best_weights_intraday.hdf5', \n",
    "                               verbose=1, save_best_only=True)\n",
    "model_intraday = build_lstm_model(X_train_intraday, y_train_intraday.shape[1], neurons=lstm_neurons, \n",
    "                               activ_func=activ_func, optimizer=optimizer,\n",
    "                               dropout=dropout)\n",
    "history_intraday = model_intraday.fit(X_train_intraday, y_train_intraday, validation_split=0.25, batch_size=batch_size, \n",
    "                           verbose=1, shuffle=True,\n",
    "                          epochs=epochs, callbacks=[checkpointer_intraday])  "
   ]
  },
  {
   "cell_type": "code",
   "execution_count": 0,
   "metadata": {
    "colab": {},
    "colab_type": "code",
    "id": "yduTsszRf9YR"
   },
   "outputs": [],
   "source": [
    "model_daily.predict(X_test_daily)"
   ]
  },
  {
   "cell_type": "code",
   "execution_count": 0,
   "metadata": {
    "colab": {
     "base_uri": "https://localhost:8080/",
     "height": 35
    },
    "colab_type": "code",
    "id": "wFzakmkadx7Y",
    "outputId": "74da1e70-206f-4081-a219-abe089946321"
   },
   "outputs": [
    {
     "data": {
      "text/plain": [
       "2.7626752853393555e-05"
      ]
     },
     "execution_count": 22,
     "metadata": {
      "tags": []
     },
     "output_type": "execute_result"
    }
   ],
   "source": [
    "dict4['60_1']\n",
    "dict4['61_1']\n",
    "dict4['62_1']"
   ]
  },
  {
   "cell_type": "code",
   "execution_count": 0,
   "metadata": {
    "colab": {},
    "colab_type": "code",
    "id": "CcVNcW9DdBjD"
   },
   "outputs": [],
   "source": [
    "major_list=[]\n",
    "for i in range(1,120000+1):\n",
    "  for j in range(1,62+1):\n",
    "    k=str(i)+'_'+str(j)\n",
    "    major_list.append({'Id': k, 'Predicted': dict4[k]})\n",
    "\n",
    "output = pd.DataFrame(data=major_list)\n",
    "output.to_csv(path_or_buf=\"solution.csv\",index=False)\n",
    "!kaggle competitions submit -c the-winton-stock-market-challenge -f solution.csv -m \"Message\""
   ]
  },
  {
   "cell_type": "markdown",
   "metadata": {
    "colab_type": "text",
    "id": "lc_I6AasaRc2"
   },
   "source": []
  },
  {
   "cell_type": "code",
   "execution_count": 0,
   "metadata": {
    "colab": {
     "base_uri": "https://localhost:8080/",
     "height": 167
    },
    "colab_type": "code",
    "id": "gBFft_wVle2K",
    "outputId": "66c8b3fb-3726-444b-e867-b53d8cbdc3b2"
   },
   "outputs": [
    {
     "name": "stderr",
     "output_type": "stream",
     "text": [
      "100% (63 of 63) |########################| Elapsed Time: 0:01:08 Time:  0:01:08\n"
     ]
    },
    {
     "name": "stdout",
     "output_type": "stream",
     "text": [
      "                Id  Predicted\n",
      "99999     100000_0   0.000787\n",
      "219999    100000_1   0.000099\n",
      "1299999  100000_10   0.000225\n",
      "1419999  100000_11  -0.000052\n",
      "1539999  100000_12   0.000007\n",
      "CPU times: user 2min 16s, sys: 14.7 s, total: 2min 30s\n",
      "Wall time: 1min 52s\n"
     ]
    }
   ],
   "source": [
    "%%time\n",
    "\n",
    "from sklearn.linear_model import LinearRegression\n",
    "training_csv = pd.read_csv('train.csv', index_col=0)\n",
    "testing_csv = pd.read_csv('test_2.csv', index_col=0)\n",
    "\n",
    "model_parameters = {'max_depth': 10, \n",
    "                    'eta': 0.1,\n",
    "                    'silent': 1, \n",
    "                    'gamma': 0, \n",
    "                    'lambda': 500,\n",
    "                    'alpha': 400,\n",
    "                    'verbose':0}\n",
    "number_of_rounds = 500\n",
    "# https://stackoverflow.com/questions/24147278/how-do-i-create-test-and-train-samples-from-one-dataframe-with-pandas\n",
    "# msk = np.random.rand(len(df)) < 0.8\n",
    "# print(msk)\n",
    "# training_csv = df[msk]\n",
    "# testing_csv = df[~msk]\n",
    "res =  pd.DataFrame()\n",
    "\n",
    "mse_list=[]\n",
    "major_list=[]\n",
    "pro =ProgressBar()\n",
    "\n",
    "training_data = training_csv.drop(training_csv.columns[range(146, 210)], axis=1)\n",
    "# testing_data = testing_csv.drop(testing_csv.columns[range(146, 210)], axis=1)\n",
    "\n",
    "training_data = training_data.values\n",
    "testing_data = testing_csv.values\n",
    "\n",
    "training_data = training_csv.drop(training_csv.columns[range(146, 210)], axis=1)\n",
    "training_data = training_data.values\n",
    "# as we plot only Ret_1 for every model to compare test prediction and actual value\n",
    "plot_res =  pd.DataFrame()\n",
    "t1=[]\n",
    "t2=[]\n",
    "for Number in pro(range(0,63)): # From 1 to 62\n",
    "\n",
    "    if Number == 61:\n",
    "        name_of_column = 'Ret_PlusOne'\n",
    "        name_of_weight = 'Weight_Daily'\n",
    "    elif Number == 62:\n",
    "        name_of_column = 'Ret_PlusTwo'\n",
    "        name_of_weight = 'Weight_Daily'\n",
    "    else:\n",
    "        name_of_column = 'Ret_'+str(Number+120)\n",
    "        name_of_weight = 'Weight_Intraday'\n",
    "\n",
    "\n",
    "    train_targets = training_csv[name_of_column].values\n",
    "    train_weights = training_csv[name_of_weight].values\n",
    "    testing_data = testing_csv.values\n",
    "\n",
    "#     data_train = xgb.DMatrix(training_data, label=train_targets, missing=np.NaN, weight=train_weights)\n",
    "#     data_test = xgb.DMatrix(testing_data, missing=np.NaN)\n",
    "    model = LinearRegression()\n",
    "    training_data = np.nan_to_num(training_data,0)\n",
    "    testing_data = np.nan_to_num(testing_data,0)\n",
    "    train_targets = np.nan_to_num(train_targets,0)\n",
    "    \n",
    "    \n",
    "    model.fit(training_data,train_targets)\n",
    "#     y_train = y_train.astype('float32')\n",
    "#     y_train = y_train.fillna(0)\n",
    "\n",
    "#     y_test = y_test.astype('float32')\n",
    "#     y_test = y_test.fillna(0)\n",
    "    t1.append(train_targets)\n",
    "    t2.append(model.predict(training_data))\n",
    "    predictions = model.predict(testing_data)\n",
    "    for ID, P in enumerate(predictions):\n",
    "        major_list.append({'Id': str(ID+1)+'_'+str(Number), 'Predicted': P})\n",
    "\n",
    "output = pd.DataFrame(data=major_list)\n",
    "output.sort_values(by='Id', inplace=True)\n",
    "output.to_csv(path_or_buf=\"output30.csv\",index=False)\n",
    "print(output.head())"
   ]
  },
  {
   "cell_type": "code",
   "execution_count": 0,
   "metadata": {
    "colab": {
     "base_uri": "https://localhost:8080/",
     "height": 33
    },
    "colab_type": "code",
    "id": "6Ab7ECFL9sg7",
    "outputId": "20a14f0d-217a-4f1f-df64-7a7dbeceef2e"
   },
   "outputs": [
    {
     "data": {
      "text/plain": [
       "1.8656180118558996e-05"
      ]
     },
     "execution_count": 17,
     "metadata": {
      "tags": []
     },
     "output_type": "execute_result"
    }
   ],
   "source": [
    "from sklearn.metrics import mean_squared_error\n",
    "mean_squared_error(t1,t2)"
   ]
  },
  {
   "cell_type": "code",
   "execution_count": 0,
   "metadata": {
    "colab": {
     "base_uri": "https://localhost:8080/",
     "height": 33
    },
    "colab_type": "code",
    "id": "5V9L6EdR_GjE",
    "outputId": "aeb4084a-892d-4ed6-ed4a-9d724d2f180f"
   },
   "outputs": [
    {
     "name": "stderr",
     "output_type": "stream",
     "text": [
      " 96% (61 of 63) |####################### | Elapsed Time: 0:00:41 ETA:   0:00:01"
     ]
    }
   ],
   "source": [
    "%%time\n",
    "\n",
    "from sklearn.svm import SVR\n",
    "from sklearn.linear_model import LinearRegression\n",
    "training_csv = pd.read_csv('train.csv', index_col=0)\n",
    "testing_csv = pd.read_csv('test_2.csv', index_col=0)\n",
    "\n",
    "model_parameters = {'max_depth': 10, \n",
    "                    'eta': 0.1,\n",
    "                    'silent': 1, \n",
    "                    'gamma': 0, \n",
    "                    'lambda': 500,\n",
    "                    'alpha': 400,\n",
    "                    'verbose':0}\n",
    "number_of_rounds = 500\n",
    "# https://stackoverflow.com/questions/24147278/how-do-i-create-test-and-train-samples-from-one-dataframe-with-pandas\n",
    "# msk = np.random.rand(len(df)) < 0.8\n",
    "# print(msk)\n",
    "# training_csv = df[msk]\n",
    "# testing_csv = df[~msk]\n",
    "res =  pd.DataFrame()\n",
    "\n",
    "mse_list=[]\n",
    "major_list=[]\n",
    "pro =ProgressBar()\n",
    "\n",
    "training_data = training_csv.drop(training_csv.columns[range(146, 210)], axis=1)\n",
    "# testing_data = testing_csv.drop(testing_csv.columns[range(146, 210)], axis=1)\n",
    "\n",
    "training_data = training_data.values\n",
    "testing_data = testing_csv.values\n",
    "\n",
    "training_data = training_csv.drop(training_csv.columns[range(146, 210)], axis=1)\n",
    "training_data = training_data.values\n",
    "# as we plot only Ret_1 for every model to compare test prediction and actual value\n",
    "plot_res =  pd.DataFrame()\n",
    "t1=[]\n",
    "t2=[]\n",
    "for Number in pro(range(0,63)): # From 1 to 62\n",
    "\n",
    "    if Number == 61:\n",
    "        name_of_column = 'Ret_PlusOne'\n",
    "        name_of_weight = 'Weight_Daily'\n",
    "    elif Number == 62:\n",
    "        name_of_column = 'Ret_PlusTwo'\n",
    "        name_of_weight = 'Weight_Daily'\n",
    "    else:\n",
    "        name_of_column = 'Ret_'+str(Number+120)\n",
    "        name_of_weight = 'Weight_Intraday'\n",
    "\n",
    "\n",
    "    train_targets = training_csv[name_of_column].values\n",
    "    train_weights = training_csv[name_of_weight].values\n",
    "    testing_data = testing_csv.values\n",
    "\n",
    "#     data_train = xgb.DMatrix(training_data, label=train_targets, missing=np.NaN, weight=train_weights)\n",
    "#     data_test = xgb.DMatrix(testing_data, missing=np.NaN)\n",
    "    model = SVR(kernel='linear', C=1e3)\n",
    "    training_data = np.nan_to_num(training_data,0)\n",
    "    testing_data = np.nan_to_num(testing_data,0)\n",
    "    train_targets = np.nan_to_num(train_targets,0)\n",
    "    \n",
    "    \n",
    "    model.fit(training_data,train_targets)\n",
    "#     y_train = y_train.astype('float32')\n",
    "#     y_train = y_train.fillna(0)\n",
    "\n",
    "#     y_test = y_test.astype('float32')\n",
    "#     y_test = y_test.fillna(0)\n",
    "    t1.append(train_targets)\n",
    "    t2.append(model.predict(training_data))\n",
    "    predictions = model.predict(testing_data)\n",
    "    for ID, P in enumerate(predictions):\n",
    "        major_list.append({'Id': str(ID+1)+'_'+str(Number), 'Predicted': P})\n",
    "\n",
    "output = pd.DataFrame(data=major_list)\n",
    "output.sort_values(by='Id', inplace=True)\n",
    "output.to_csv(path_or_buf=\"output30.csv\",index=False)\n",
    "print(output.head())\n",
    "mean_squared_error(t1,t2) "
   ]
  },
  {
   "cell_type": "code",
   "execution_count": 0,
   "metadata": {
    "colab": {
     "base_uri": "https://localhost:8080/",
     "height": 150
    },
    "colab_type": "code",
    "id": "J5NjxZji_Ges",
    "outputId": "ebd6449c-cca0-4434-90e8-a5ec383317e9"
   },
   "outputs": [
    {
     "name": "stderr",
     "output_type": "stream",
     "text": [
      " 96% (61 of 63) |####################### | Elapsed Time: 0:00:36 ETA:   0:00:01"
     ]
    },
    {
     "name": "stdout",
     "output_type": "stream",
     "text": [
      "                Id  Predicted\n",
      "99999     100000_0   0.043818\n",
      "219999    100000_1   0.014709\n",
      "1299999  100000_10  -0.003318\n",
      "1419999  100000_11  -0.001375\n",
      "1539999  100000_12   0.008735\n",
      "CPU times: user 1min 19s, sys: 780 ms, total: 1min 20s\n",
      "Wall time: 1min 20s\n"
     ]
    }
   ],
   "source": [
    "%%time\n",
    "from sklearn.metrics import mean_squared_error\n",
    "from sklearn.svm import SVR\n",
    "from sklearn.linear_model import LinearRegression\n",
    "training_csv = pd.read_csv('train.csv', index_col=0)\n",
    "testing_csv = pd.read_csv('test_2.csv', index_col=0)\n",
    "\n",
    "model_parameters = {'max_depth': 10, \n",
    "                    'eta': 0.1,\n",
    "                    'silent': 1, \n",
    "                    'gamma': 0, \n",
    "                    'lambda': 500,\n",
    "                    'alpha': 400,\n",
    "                    'verbose':0}\n",
    "number_of_rounds = 500\n",
    "# https://stackoverflow.com/questions/24147278/how-do-i-create-test-and-train-samples-from-one-dataframe-with-pandas\n",
    "# msk = np.random.rand(len(df)) < 0.8\n",
    "# print(msk)\n",
    "# training_csv = df[msk]\n",
    "# testing_csv = df[~msk]\n",
    "res =  pd.DataFrame()\n",
    "\n",
    "mse_list=[]\n",
    "major_list=[]\n",
    "pro =ProgressBar()\n",
    "\n",
    "training_data = training_csv.drop(training_csv.columns[range(146, 210)], axis=1)\n",
    "# testing_data = testing_csv.drop(testing_csv.columns[range(146, 210)], axis=1)\n",
    "\n",
    "training_data = training_data.values\n",
    "testing_data = testing_csv.values\n",
    "\n",
    "training_data = training_csv.drop(training_csv.columns[range(146, 210)], axis=1)\n",
    "training_data = training_data.values\n",
    "# as we plot only Ret_1 for every model to compare test prediction and actual value\n",
    "plot_res =  pd.DataFrame()\n",
    "t1=[]\n",
    "t2=[]\n",
    "for Number in pro(range(0,63)): # From 1 to 62\n",
    "\n",
    "    if Number == 61:\n",
    "        name_of_column = 'Ret_PlusOne'\n",
    "        name_of_weight = 'Weight_Daily'\n",
    "        break\n",
    "    elif Number == 62:\n",
    "        name_of_column = 'Ret_PlusTwo'\n",
    "        name_of_weight = 'Weight_Daily'\n",
    "    else:\n",
    "        name_of_column = 'Ret_'+str(Number+120)\n",
    "        name_of_weight = 'Weight_Intraday'\n",
    "\n",
    "\n",
    "    train_targets = training_csv[name_of_column].values\n",
    "    train_weights = training_csv[name_of_weight].values\n",
    "    testing_data = testing_csv.values\n",
    "\n",
    "#     data_train = xgb.DMatrix(training_data, label=train_targets, missing=np.NaN, weight=train_weights)\n",
    "#     data_test = xgb.DMatrix(testing_data, missing=np.NaN)\n",
    "    model = SVR(kernel='linear', C=1e3)\n",
    "    training_data = np.nan_to_num(training_data,0)\n",
    "    testing_data = np.nan_to_num(testing_data,0)\n",
    "    train_targets = np.nan_to_num(train_targets,0)\n",
    "    \n",
    "    \n",
    "    model.fit(training_data,train_targets)\n",
    "#     y_train = y_train.astype('float32')\n",
    "#     y_train = y_train.fillna(0)\n",
    "\n",
    "#     y_test = y_test.astype('float32')\n",
    "#     y_test = y_test.fillna(0)\n",
    "    t1.append(train_targets)\n",
    "    t2.append(model.predict(training_data))\n",
    "    predictions = model.predict(testing_data)\n",
    "    for ID, P in enumerate(predictions):\n",
    "        major_list.append({'Id': str(ID+1)+'_'+str(Number), 'Predicted': P})\n",
    "\n",
    "output = pd.DataFrame(data=major_list)\n",
    "output.sort_values(by='Id', inplace=True)\n",
    "output.to_csv(path_or_buf=\"output30.csv\",index=False)\n",
    "print(output.head())"
   ]
  },
  {
   "cell_type": "code",
   "execution_count": 0,
   "metadata": {
    "colab": {
     "base_uri": "https://localhost:8080/",
     "height": 33
    },
    "colab_type": "code",
    "id": "xTdiDKDnaNq4",
    "outputId": "dbbcf8da-7584-4711-a861-9bfff7857114"
   },
   "outputs": [
    {
     "data": {
      "text/plain": [
       "0.00019977672152186372"
      ]
     },
     "execution_count": 8,
     "metadata": {
      "tags": []
     },
     "output_type": "execute_result"
    }
   ],
   "source": [
    "mean_squared_error(t1,t2) "
   ]
  },
  {
   "cell_type": "code",
   "execution_count": 0,
   "metadata": {
    "colab": {
     "base_uri": "https://localhost:8080/",
     "height": 33
    },
    "colab_type": "code",
    "id": "wGNJETrTHU-0",
    "outputId": "d2e89eaa-fcd5-4397-89fa-d18dd4f21671"
   },
   "outputs": [
    {
     "data": {
      "text/plain": [
       "0.00019977672152186372"
      ]
     },
     "execution_count": 4,
     "metadata": {
      "tags": []
     },
     "output_type": "execute_result"
    }
   ],
   "source": [
    "mean_squared_error(t1,t2) "
   ]
  },
  {
   "cell_type": "code",
   "execution_count": 0,
   "metadata": {
    "colab": {},
    "colab_type": "code",
    "id": "V7JWX07WyeSK"
   },
   "outputs": [],
   "source": [
    "dict1 = dict(zip(output.Id, output.Predicted))"
   ]
  },
  {
   "cell_type": "code",
   "execution_count": 0,
   "metadata": {
    "colab": {
     "base_uri": "https://localhost:8080/",
     "height": 67
    },
    "colab_type": "code",
    "id": "sxb_CLTExDAN",
    "outputId": "1ed3d928-1a48-4450-e88d-addbd4e0a119"
   },
   "outputs": [
    {
     "name": "stdout",
     "output_type": "stream",
     "text": [
      "Warning: Looks like you're using an outdated API Version, please consider updating (server 1.5.6 / client 1.5.4)\n",
      "100% 226M/226M [00:07<00:00, 32.0MB/s]\n",
      "Successfully submitted to The Winton Stock Market Challenge"
     ]
    }
   ],
   "source": [
    "major_list=[]\n",
    "for i in range(1,120000+1):\n",
    "  for j in range(1,62+1):\n",
    "    k=str(i)+'_'+str(j)\n",
    "    major_list.append({'Id': k,\n",
    "                       'Predicted': (dict1[k]+dict4[k] )/2\n",
    "                      })\n",
    "\n",
    "output = pd.DataFrame(data=major_list)\n",
    "output.to_csv(path_or_buf=\"solution.csv\",index=False)\n",
    "!kaggle competitions submit -c the-winton-stock-market-challenge -f solution.csv -m \"XGBoost + Linear regression\""
   ]
  },
  {
   "cell_type": "code",
   "execution_count": 0,
   "metadata": {
    "colab": {
     "base_uri": "https://localhost:8080/",
     "height": 33
    },
    "colab_type": "code",
    "id": "QWfByhkDbrD6",
    "outputId": "bba31e69-00eb-4370-b47e-dddda38271f2"
   },
   "outputs": [
    {
     "data": {
      "text/plain": [
       "0.00019045966732976504"
      ]
     },
     "execution_count": 20,
     "metadata": {
      "tags": []
     },
     "output_type": "execute_result"
    }
   ],
   "source": [
    "dict1['1_1']"
   ]
  },
  {
   "cell_type": "code",
   "execution_count": 0,
   "metadata": {
    "colab": {
     "base_uri": "https://localhost:8080/",
     "height": 33
    },
    "colab_type": "code",
    "id": "26mR8pAibvre",
    "outputId": "77bbf1c3-7194-49e2-e56f-075bf8eaf5c5"
   },
   "outputs": [
    {
     "data": {
      "text/plain": [
       "0.0004201829433441162"
      ]
     },
     "execution_count": 25,
     "metadata": {
      "tags": []
     },
     "output_type": "execute_result"
    }
   ],
   "source": [
    "dict4['1_1']"
   ]
  },
  {
   "cell_type": "code",
   "execution_count": 0,
   "metadata": {
    "colab": {
     "base_uri": "https://localhost:8080/",
     "height": 33
    },
    "colab_type": "code",
    "id": "Akj_2ZXb0mVD",
    "outputId": "01799f41-2eb7-444a-9993-008fa99f3e60"
   },
   "outputs": [
    {
     "data": {
      "text/plain": [
       "-0.00010033381161201894"
      ]
     },
     "execution_count": 22,
     "metadata": {
      "tags": []
     },
     "output_type": "execute_result"
    }
   ],
   "source": [
    "dict1['61_1']"
   ]
  },
  {
   "cell_type": "code",
   "execution_count": 0,
   "metadata": {
    "colab": {
     "base_uri": "https://localhost:8080/",
     "height": 33
    },
    "colab_type": "code",
    "id": "Rc0IRrrG0iFh",
    "outputId": "81c12b50-bf30-4d0c-f521-ef6fed3e155f"
   },
   "outputs": [
    {
     "data": {
      "text/plain": [
       "-8.529424667358398e-05"
      ]
     },
     "execution_count": 21,
     "metadata": {
      "tags": []
     },
     "output_type": "execute_result"
    }
   ],
   "source": [
    "dict4['61_1']"
   ]
  },
  {
   "cell_type": "code",
   "execution_count": 0,
   "metadata": {
    "colab": {
     "base_uri": "https://localhost:8080/",
     "height": 33
    },
    "colab_type": "code",
    "id": "Zf2Lm2eFmlhQ",
    "outputId": "688c3ba2-0fb4-447e-c20b-eefb9115f24f"
   },
   "outputs": [
    {
     "data": {
      "text/plain": [
       "0.0003053213053369406"
      ]
     },
     "execution_count": 28,
     "metadata": {
      "tags": []
     },
     "output_type": "execute_result"
    }
   ],
   "source": [
    "(dict4['1_1']+dict1['1_1'])/2"
   ]
  },
  {
   "cell_type": "code",
   "execution_count": 0,
   "metadata": {
    "colab": {},
    "colab_type": "code",
    "id": "3Z38pRjQ3O55"
   },
   "outputs": [],
   "source": [
    "major_list=[]\n",
    "for i in range(1,120000+1):\n",
    "  for j in range(1,62+1):\n",
    "    k=str(i)+'_'+str(j)\n",
    "    major_list.append({'Id': k,\n",
    "                       'Predicted': (dict1[k] )\n",
    "                      })\n",
    "\n",
    "output = pd.DataFrame(data=major_list)\n",
    "output.to_csv(path_or_buf=\"linear_regression.csv\",index=False)"
   ]
  },
  {
   "cell_type": "code",
   "execution_count": 0,
   "metadata": {
    "colab": {},
    "colab_type": "code",
    "id": "HSheo6u934Xb"
   },
   "outputs": [],
   "source": [
    "major_list=[]\n",
    "for i in range(1,120000+1):\n",
    "  for j in range(1,62+1):\n",
    "    k=str(i)+'_'+str(j)\n",
    "    major_list.append({'Id': k,\n",
    "                       'Predicted': dict4[k]\n",
    "                      })\n",
    "\n",
    "output = pd.DataFrame(data=major_list)\n",
    "output.to_csv(path_or_buf=\"Xgboost-data.csv\",index=False)\n",
    "# !kaggle competitions submit -c the-winton-stock-market-challenge -f solution.csv -m \"with bias .5\""
   ]
  },
  {
   "cell_type": "code",
   "execution_count": 0,
   "metadata": {
    "colab": {
     "base_uri": "https://localhost:8080/",
     "height": 33
    },
    "colab_type": "code",
    "id": "WMVJH5EICWUA",
    "outputId": "0675d253-764e-4712-c2a1-cb517e27e2b9"
   },
   "outputs": [
    {
     "data": {
      "text/plain": [
       "'drive/My Drive/AAIC/Xgboost-data.csv'"
      ]
     },
     "execution_count": 27,
     "metadata": {
      "tags": []
     },
     "output_type": "execute_result"
    }
   ],
   "source": [
    "path='drive/My Drive/AAIC'\n",
    "\n",
    "shutil.copy('linear_regression.csv',path)\n",
    "shutil.copy('Xgboost-data.csv',path)"
   ]
  },
  {
   "cell_type": "code",
   "execution_count": 0,
   "metadata": {
    "colab": {},
    "colab_type": "code",
    "id": "iL38jSnyhxfW"
   },
   "outputs": [],
   "source": [
    "major_list=[]\n",
    "for i in range(1,120000+1):\n",
    "  for j in range(1,62+1):\n",
    "    k=str(i)+'_'+str(j)\n",
    "    major_list.append({'Id': k,\n",
    "                       'Predicted': dict4[k]\n",
    "                      })\n",
    "\n",
    "output = pd.DataFrame(data=major_list)\n",
    "output.to_csv(path_or_buf=\"Xgboost-data.csv\",index=False)\n",
    "# !kaggle competitions submit -c the-winton-stock-market-challenge -f solution.csv -m \"with bias .5\""
   ]
  },
  {
   "cell_type": "code",
   "execution_count": 0,
   "metadata": {
    "colab": {
     "base_uri": "https://localhost:8080/",
     "height": 33
    },
    "colab_type": "code",
    "id": "IYZ8MJdVh9RQ",
    "outputId": "7316c8f7-bef4-4026-ce15-f5dffd2a6c7c"
   },
   "outputs": [
    {
     "data": {
      "text/plain": [
       "array([0.5, 0.5, 0.5, ..., 0.5, 0.5, 0.5])"
      ]
     },
     "execution_count": 36,
     "metadata": {
      "tags": []
     },
     "output_type": "execute_result"
    }
   ],
   "source": [
    "np.zeros(40000)+0.5"
   ]
  },
  {
   "cell_type": "code",
   "execution_count": 0,
   "metadata": {
    "colab": {
     "base_uri": "https://localhost:8080/",
     "height": 33
    },
    "colab_type": "code",
    "id": "WyBfgdm1iK3W",
    "outputId": "320ad6f3-4039-49d0-ecfd-4278a1bbc445"
   },
   "outputs": [
    {
     "data": {
      "text/plain": [
       "0.0005837107094561095"
      ]
     },
     "execution_count": 40,
     "metadata": {
      "tags": []
     },
     "output_type": "execute_result"
    }
   ],
   "source": [
    "mean_squared_error(train_targets,np.zeros(40000))"
   ]
  },
  {
   "cell_type": "code",
   "execution_count": 0,
   "metadata": {
    "colab": {
     "base_uri": "https://localhost:8080/",
     "height": 33
    },
    "colab_type": "code",
    "id": "nI-pbudQEeHS",
    "outputId": "a8ec57c0-24bc-44b8-8bc5-5b7a607e00b4"
   },
   "outputs": [
    {
     "data": {
      "text/plain": [
       "0.0005837105721499144"
      ]
     },
     "execution_count": 41,
     "metadata": {
      "tags": []
     },
     "output_type": "execute_result"
    }
   ],
   "source": [
    "mean_squared_error(train_targets,np.zeros(40000)+10e-6)"
   ]
  },
  {
   "cell_type": "code",
   "execution_count": 6,
   "metadata": {
    "colab": {
     "base_uri": "https://localhost:8080/",
     "height": 33
    },
    "colab_type": "code",
    "id": "xUt4hSfQiZlD",
    "outputId": "ffdb9903-1690-4294-b129-91439c5d45b2"
   },
   "outputs": [
    {
     "data": {
      "text/plain": [
       "'./ExtraTreesRegressor.csv'"
      ]
     },
     "execution_count": 6,
     "metadata": {
      "tags": []
     },
     "output_type": "execute_result"
    }
   ],
   "source": [
    "path='drive/My Drive/AAIC'\n",
    "\n",
    "shutil.copy(path+'/randomForest.csv','.')\n",
    "shutil.copy(path+'/ExtraTreesRegressor.csv','.')\n",
    "# ExtraTreesRegressor\n",
    "# shutil.copy('Xgboost-data.csv',path)"
   ]
  },
  {
   "cell_type": "code",
   "execution_count": 0,
   "metadata": {
    "colab": {},
    "colab_type": "code",
    "id": "rVVWDdvzjTA_"
   },
   "outputs": [],
   "source": [
    "df1=pd.read_csv('ExtraTreesRegressor.csv')\n",
    "df2=pd.read_csv('randomForest.csv')\n",
    "df3=pd.read_csv('linear_regression.csv')\n",
    "df4=pd.read_csv('Xgboost-data.csv')\n",
    "dict_1 = dict(zip(df1.Id, df1.Predicted))\n",
    "dict_2 = dict(zip(df2.Id, df2.Predicted))\n",
    "dict_3 = dict(zip(df3.Id, df3.Predicted))\n",
    "dict_4 = dict(zip(df4.Id, df4.Predicted))"
   ]
  },
  {
   "cell_type": "code",
   "execution_count": 0,
   "metadata": {
    "colab": {
     "base_uri": "https://localhost:8080/",
     "height": 83
    },
    "colab_type": "code",
    "id": "pWORxDNRjwgl",
    "outputId": "02f7ce08-a657-4be2-ea04-d7294ac6dea3"
   },
   "outputs": [
    {
     "name": "stdout",
     "output_type": "stream",
     "text": [
      "0.00033327448678133263\n",
      "-8.699173362735828e-06\n",
      "0.00019045966732976504\n",
      "0.0004201829433441162\n"
     ]
    }
   ],
   "source": [
    "print(dict_1['1_1'])\n",
    "print(dict_2['1_1'])\n",
    "print(dict_3['1_1'])\n",
    "print(dict_4['1_1'])"
   ]
  },
  {
   "cell_type": "code",
   "execution_count": 0,
   "metadata": {
    "colab": {
     "base_uri": "https://localhost:8080/",
     "height": 67
    },
    "colab_type": "code",
    "id": "3fMpIfGKj7IO",
    "outputId": "23f18e03-ef25-4930-e88b-a870330a5934"
   },
   "outputs": [
    {
     "name": "stdout",
     "output_type": "stream",
     "text": [
      "Warning: Looks like you're using an outdated API Version, please consider updating (server 1.5.6 / client 1.5.4)\n",
      "100% 226M/226M [00:06<00:00, 38.3MB/s]\n",
      "Successfully submitted to The Winton Stock Market Challenge"
     ]
    }
   ],
   "source": [
    "major_list=[]\n",
    "for i in range(1,120000+1):\n",
    "  for j in range(1,62+1):\n",
    "    k=str(i)+'_'+str(j)\n",
    "    major_list.append({'Id': k,\n",
    "                       'Predicted': (dict_2[k])/2\n",
    "                      })\n",
    "\n",
    "output = pd.DataFrame(data=major_list)\n",
    "output.to_csv(path_or_buf=\"solution.csv\",index=False)\n",
    "!kaggle competitions submit -c the-winton-stock-market-challenge -f solution.csv -m \"  randomForest/2\""
   ]
  },
  {
   "cell_type": "code",
   "execution_count": 0,
   "metadata": {
    "colab": {
     "base_uri": "https://localhost:8080/",
     "height": 67
    },
    "colab_type": "code",
    "id": "yCrENb1WoDHS",
    "outputId": "dd877759-2642-4d82-d027-3cd4ee296374"
   },
   "outputs": [
    {
     "name": "stdout",
     "output_type": "stream",
     "text": [
      "usage: kaggle competitions submit [-h] -f FILE_NAME -m MESSAGE [-q]\n",
      "                                  [competition]\n",
      "kaggle competitions submit: error: argument -m/--message: expected one argument\n"
     ]
    }
   ],
   "source": [
    "major_list=[]\n",
    "for i in range(1,120000+1):\n",
    "  for j in range(1,62+1):\n",
    "    k=str(i)+'_'+str(j)\n",
    "    major_list.append({'Id': k,\n",
    "                       'Predicted': 10e-6\n",
    "                      })\n",
    "\n",
    "output = pd.DataFrame(data=major_list)\n",
    "output.to_csv(path_or_buf=\"solution.csv\",index=False)\n",
    "!kaggle competitions submit -c the-winton-stock-market-challenge -f solution.csv -m \" 10e-6\""
   ]
  },
  {
   "cell_type": "code",
   "execution_count": 0,
   "metadata": {
    "colab": {
     "base_uri": "https://localhost:8080/",
     "height": 67
    },
    "colab_type": "code",
    "id": "8INKEyKsooyq",
    "outputId": "9153766d-20d4-48fb-a610-3b0c5a80c3fa"
   },
   "outputs": [
    {
     "name": "stdout",
     "output_type": "stream",
     "text": [
      "Warning: Looks like you're using an outdated API Version, please consider updating (server 1.5.6 / client 1.5.4)\n",
      "100% 113M/113M [00:02<00:00, 43.5MB/s]\n",
      "Successfully submitted to The Winton Stock Market Challenge"
     ]
    }
   ],
   "source": [
    "major_list=[]\n",
    "for i in range(1,120000+1):\n",
    "  for j in range(1,62+1):\n",
    "    k=str(i)+'_'+str(j)\n",
    "    major_list.append({'Id': k,\n",
    "                       'Predicted': -10e-6\n",
    "                      })\n",
    "\n",
    "output = pd.DataFrame(data=major_list)\n",
    "output.to_csv(path_or_buf=\"solution.csv\",index=False)\n",
    "!kaggle competitions submit -c the-winton-stock-market-challenge -f solution.csv -m \" -10e-6\""
   ]
  },
  {
   "cell_type": "code",
   "execution_count": 0,
   "metadata": {
    "colab": {
     "base_uri": "https://localhost:8080/",
     "height": 33
    },
    "colab_type": "code",
    "id": "uJmshFQkmIHl",
    "outputId": "5f44e34d-90a2-4fa9-9068-70ad1617c6d1"
   },
   "outputs": [
    {
     "data": {
      "text/plain": [
       "(7440000, 2)"
      ]
     },
     "execution_count": 52,
     "metadata": {
      "tags": []
     },
     "output_type": "execute_result"
    }
   ],
   "source": [
    "df1.shape"
   ]
  },
  {
   "cell_type": "code",
   "execution_count": 0,
   "metadata": {
    "colab": {},
    "colab_type": "code",
    "id": "BXE-MKJZmUUI"
   },
   "outputs": [],
   "source": [
    "major_list=[]"
   ]
  },
  {
   "cell_type": "code",
   "execution_count": 0,
   "metadata": {
    "colab": {
     "base_uri": "https://localhost:8080/",
     "height": 33
    },
    "colab_type": "code",
    "id": "meZCx2KnvVGn",
    "outputId": "0edec767-c82d-48b1-f401-941405af26d2"
   },
   "outputs": [
    {
     "name": "stdout",
     "output_type": "stream",
     "text": [
      "Garbage collector: collected 2692 objects.\n"
     ]
    }
   ],
   "source": [
    "# Importing gc module \n",
    "import gc \n",
    "  \n",
    "# Returns the number of \n",
    "# objects it has collected \n",
    "# and deallocated \n",
    "collected = gc.collect() \n",
    "  \n",
    "# Prints Garbage collector  \n",
    "# as 0 object \n",
    "print(\"Garbage collector: collected\", \n",
    "          \"%d objects.\" % collected) "
   ]
  },
  {
   "cell_type": "code",
   "execution_count": 0,
   "metadata": {
    "colab": {},
    "colab_type": "code",
    "id": "PTApyo0nu8xX"
   },
   "outputs": [],
   "source": [
    "dict_1={}\n",
    "dict_2={}\n",
    "dict_3={}\n",
    "dict_4={}"
   ]
  },
  {
   "cell_type": "code",
   "execution_count": 0,
   "metadata": {
    "colab": {
     "base_uri": "https://localhost:8080/",
     "height": 167
    },
    "colab_type": "code",
    "id": "QoFomhS-mFrD",
    "outputId": "2e3afad3-f54c-457a-e63b-24cf882d337a"
   },
   "outputs": [
    {
     "name": "stderr",
     "output_type": "stream",
     "text": [
      "100% (2 of 2) |##########################| Elapsed Time: 0:02:09 Time:  0:02:09\n"
     ]
    },
    {
     "name": "stdout",
     "output_type": "stream",
     "text": [
      "               Id       Predicted\n",
      "99999   100000_61    [0.00459889]\n",
      "219999  100000_62  [0.0030135247]\n",
      "100000  100001_61  [0.0045988895]\n",
      "220000  100001_62  [0.0030135245]\n",
      "100001  100002_61  [0.0045988895]\n",
      "CPU times: user 3min 1s, sys: 2.32 s, total: 3min 3s\n",
      "Wall time: 2min 35s\n"
     ]
    }
   ],
   "source": [
    "%%time\n",
    "import warnings\n",
    "warnings.filterwarnings('ignore')\n",
    "from sklearn.metrics import mean_squared_error\n",
    "from sklearn.svm import SVR\n",
    "from sklearn.linear_model import LinearRegression\n",
    "training_csv = pd.read_csv('train.csv', index_col=0)\n",
    "testing_csv = pd.read_csv('test_2.csv', index_col=0)\n",
    "\n",
    "model_parameters = {'max_depth': 10, \n",
    "                    'eta': 0.1,\n",
    "                    'silent': 1, \n",
    "                    'gamma': 0, \n",
    "                    'lambda': 500,\n",
    "                    'alpha': 400,\n",
    "                    'verbose':0}\n",
    "number_of_rounds = 500\n",
    "# https://stackoverflow.com/questions/24147278/how-do-i-create-test-and-train-samples-from-one-dataframe-with-pandas\n",
    "# msk = np.random.rand(len(df)) < 0.8\n",
    "# print(msk)\n",
    "# training_csv = df[msk]\n",
    "# testing_csv = df[~msk]\n",
    "res =  pd.DataFrame()\n",
    "\n",
    "mse_list=[]\n",
    "major_list=[]\n",
    "pro =ProgressBar()\n",
    "\n",
    "training_data = training_csv.drop(training_csv.columns[range(146, 210)], axis=1)\n",
    "# testing_data = testing_csv.drop(testing_csv.columns[range(146, 210)], axis=1)\n",
    "\n",
    "training_data = training_data.values\n",
    "testing_data = testing_csv.values\n",
    "\n",
    "training_data = training_csv.drop(training_csv.columns[range(146, 210)], axis=1)\n",
    "training_data = training_data.values\n",
    "# as we plot only Ret_1 for every model to compare test prediction and actual value\n",
    "plot_res =  pd.DataFrame()\n",
    "t1=[]\n",
    "t2=[]\n",
    "for Number in pro(range(61,63)): # From 1 to 62\n",
    "\n",
    "    if Number == 61:\n",
    "        name_of_column = 'Ret_PlusOne'\n",
    "        name_of_weight = 'Weight_Daily'\n",
    "    elif Number == 62:\n",
    "        name_of_column = 'Ret_PlusTwo'\n",
    "        name_of_weight = 'Weight_Daily'\n",
    "    else:\n",
    "        name_of_column = 'Ret_'+str(Number+120)\n",
    "        name_of_weight = 'Weight_Intraday'\n",
    "\n",
    "\n",
    "    train_targets = training_csv[name_of_column].values\n",
    "    train_weights = training_csv[name_of_weight].values\n",
    "    testing_data = testing_csv.values\n",
    "\n",
    "    model = Sequential()\n",
    "    model.add(Dense(256, input_dim=146, kernel_initializer='normal'))\n",
    "    model.add(Dense(128, activation='relu'))\n",
    "    model.add(Dense(64, activation='relu'))\n",
    "    model.add(Dense(32, activation='relu'))\n",
    "    model.add(Dense(8, activation='linear'))\n",
    "    model.add(Dense(1, activation='linear'))\n",
    "    model.compile(loss='mae', optimizer='adam', metrics=['mse','mae'])\n",
    "    \n",
    "    training_data = np.nan_to_num(training_data,0)\n",
    "    testing_data = np.nan_to_num(testing_data,0)\n",
    "    train_targets = np.nan_to_num(train_targets,0)\n",
    "    \n",
    "    \n",
    "    model.fit(training_data,train_targets,epochs=10, batch_size=50,verbose=0)\n",
    "    \n",
    "    t1.append(train_targets)\n",
    "    t2.append(model.predict(training_data))\n",
    "    predictions = model.predict(testing_data)\n",
    "    for ID, P in enumerate(predictions):\n",
    "        major_list.append({'Id': str(ID+1)+'_'+str(Number), 'Predicted': P})\n",
    "\n",
    "output = pd.DataFrame(data=major_list)\n",
    "output.sort_values(by='Id', inplace=True)\n",
    "output.to_csv(path_or_buf=\"DeepLearning.csv\",index=False)\n",
    "print(output.head())"
   ]
  },
  {
   "cell_type": "code",
   "execution_count": 0,
   "metadata": {
    "colab": {},
    "colab_type": "code",
    "id": "_XNNYCcz8cvR"
   },
   "outputs": [],
   "source": [
    "dict_2 = dict(zip(output.Id, output.Predicted))"
   ]
  },
  {
   "cell_type": "code",
   "execution_count": 0,
   "metadata": {
    "colab": {},
    "colab_type": "code",
    "id": "trFCEnd-vrkN"
   },
   "outputs": [],
   "source": [
    "dict_1 = dict(zip(output.Id, output.Predicted))"
   ]
  },
  {
   "cell_type": "code",
   "execution_count": 0,
   "metadata": {
    "colab": {},
    "colab_type": "code",
    "id": "gzo5hiT68gpq"
   },
   "outputs": [],
   "source": [
    "dict_1.update(dict_2)"
   ]
  },
  {
   "cell_type": "code",
   "execution_count": 0,
   "metadata": {
    "colab": {},
    "colab_type": "code",
    "id": "MW6-ssW_BeP4"
   },
   "outputs": [],
   "source": [
    "major_list=[]\n",
    "for i in range(1,120000+1):\n",
    "  for j in range(1,62+1):\n",
    "    k=str(i)+'_'+str(j)\n",
    "    try:\n",
    "      dict_1[k]=dict_1[k][0]\n",
    "    except:\n",
    "      5"
   ]
  },
  {
   "cell_type": "code",
   "execution_count": 0,
   "metadata": {
    "colab": {
     "base_uri": "https://localhost:8080/",
     "height": 33
    },
    "colab_type": "code",
    "id": "HSIuQY0kCDPh",
    "outputId": "24e1a29d-c47b-48b2-a412-4d7bd27dc4fb"
   },
   "outputs": [
    {
     "data": {
      "text/plain": [
       "-0.0008346188"
      ]
     },
     "execution_count": 88,
     "metadata": {
      "tags": []
     },
     "output_type": "execute_result"
    }
   ],
   "source": [
    "dict_1['1_1']"
   ]
  },
  {
   "cell_type": "code",
   "execution_count": 0,
   "metadata": {
    "colab": {
     "base_uri": "https://localhost:8080/",
     "height": 67
    },
    "colab_type": "code",
    "id": "8fXWe4HDvv9T",
    "outputId": "45e08cc2-95aa-4f50-a6be-3e1bf9e6d2f4"
   },
   "outputs": [
    {
     "name": "stdout",
     "output_type": "stream",
     "text": [
      "Warning: Looks like you're using an outdated API Version, please consider updating (server 1.5.6 / client 1.5.4)\n",
      "100% 225M/225M [00:03<00:00, 61.7MB/s]\n",
      "Successfully submitted to The Winton Stock Market Challenge"
     ]
    }
   ],
   "source": [
    "major_list=[]\n",
    "for i in range(1,120000+1):\n",
    "  for j in range(1,62+1):\n",
    "    k=str(i)+'_'+str(j)\n",
    "    major_list.append({'Id': k,\n",
    "                       'Predicted': dict_1[k]\n",
    "                      })\n",
    "\n",
    "output = pd.DataFrame(data=major_list)\n",
    "output.to_csv(path_or_buf=\"solution.csv\",index=False)\n",
    "!kaggle competitions submit -c the-winton-stock-market-challenge -f solution.csv -m \" deeplearning 4 layers\""
   ]
  },
  {
   "cell_type": "code",
   "execution_count": 0,
   "metadata": {
    "colab": {},
    "colab_type": "code",
    "id": "ZXMU28z_JPL1"
   },
   "outputs": [],
   "source": [
    "embed_dim = 128\n",
    "lstm_out = 200\n",
    "batch_size = 32\n",
    "\n",
    "model = Sequential()\n",
    "model.add(Embedding(2500, embed_dim,input_length = 146, dropout = 0.2))\n",
    "model.add(LSTM(lstm_out, dropout_U = 0.2, dropout_W = 0.2))\n",
    "model.add(Dense(2,activation='softmax'))\n",
    "model.compile(loss = 'categorical_crossentropy', optimizer='adam',metrics = ['accuracy'])\n",
    "print(model.summary())"
   ]
  },
  {
   "cell_type": "code",
   "execution_count": 41,
   "metadata": {
    "colab": {
     "base_uri": "https://localhost:8080/",
     "height": 83
    },
    "colab_type": "code",
    "id": "yMzw1x2zztiN",
    "outputId": "44a32942-b046-4c1e-feec-36acd90dcbea"
   },
   "outputs": [
    {
     "name": "stdout",
     "output_type": "stream",
     "text": [
      "No of repeatitions :  119\n",
      "No of repeatitions :  2\n",
      "No of repeatitions :  119\n",
      "No of repeatitions :  2\n"
     ]
    }
   ],
   "source": [
    "def preprocess_data(x_raw, y_raw):\n",
    "    # top 25 features\n",
    "    features = x_raw.loc[:, 'Feature_1':'Feature_25'].values[:, None, :]\n",
    "\n",
    "    # 120 return values\n",
    "    returns_intraday = x_raw.loc[:, 'Ret_2':'Ret_120'].values[:, :, None]\n",
    "    print(\"No of repeatitions : \",returns_intraday.shape[1])\n",
    "    \n",
    "    features_repeated = np.repeat(features, returns_intraday.shape[1], axis=1)\n",
    "    X_intraday = np.dstack((features_repeated, returns_intraday))\n",
    "    \n",
    "    returns_daily = x_raw.loc[:, 'Ret_MinusTwo':'Ret_MinusOne'].values[:, :, None]\n",
    "    print(\"No of repeatitions : \",returns_daily.shape[1])\n",
    "    features_repeated = np.repeat(features, returns_daily.shape[1], axis=1)\n",
    "    X_daily = np.dstack((features_repeated, returns_daily))\n",
    "    \n",
    "    # targets should consist of returns only\n",
    "    y_intraday = y_raw.loc[:, 'Ret_121':'Ret_180']\n",
    "    y_daily = y_raw.loc[:, 'Ret_PlusOne':'Ret_PlusTwo']\n",
    "    \n",
    "    return X_intraday, X_daily, y_intraday, y_daily\n",
    "files_path=''  \n",
    "df = pd.read_csv(files_path+'train.csv')\n",
    "df.fillna(df.mean(axis=0), inplace=True)  \n",
    "first = ['Id']\n",
    "allcol = ['Ret_121','Ret_122','Ret_123','Ret_124','Ret_125','Ret_126','Ret_127','Ret_128','Ret_129','Ret_130',\n",
    "'Ret_131','Ret_132','Ret_133','Ret_134','Ret_135','Ret_136','Ret_137','Ret_138','Ret_139','Ret_140','Ret_141',\n",
    "'Ret_142','Ret_143','Ret_144','Ret_145','Ret_146','Ret_147','Ret_148','Ret_149','Ret_150','Ret_151','Ret_152',\n",
    "'Ret_153','Ret_154','Ret_155','Ret_156','Ret_157','Ret_158','Ret_159','Ret_160','Ret_161','Ret_162','Ret_163',\n",
    "'Ret_164','Ret_165','Ret_166','Ret_167','Ret_168','Ret_169','Ret_170','Ret_171','Ret_172','Ret_173','Ret_174',\n",
    "'Ret_175','Ret_176','Ret_177','Ret_178','Ret_179','Ret_180','Ret_PlusOne','Ret_PlusTwo']\n",
    "\n",
    "total = first + allcol\n",
    "feature_cols = [col for col in df.columns if col not in total] \n",
    "\n",
    "X = df[feature_cols] # .loc[:, 'Feature_1':'Ret_120'] \n",
    "y = df[allcol] #.loc[:, 'Ret_121':'Weight_Daily'] \n",
    "\n",
    "X_train_raw, X_test_raw, y_train_raw, y_test_raw = train_test_split(X, y, test_size=0.20, random_state=42)\n",
    "X_train_intraday, X_train_daily, y_train_intraday, y_train_daily = preprocess_data(X_train_raw, y_train_raw)    \n",
    "X_test_intraday, X_test_daily, y_test_intraday, y_test_daily= preprocess_data(X_test_raw, y_test_raw)  "
   ]
  },
  {
   "cell_type": "code",
   "execution_count": 42,
   "metadata": {
    "colab": {
     "base_uri": "https://localhost:8080/",
     "height": 953
    },
    "colab_type": "code",
    "id": "6Fq4zhYlKM1S",
    "outputId": "d6704e05-c801-43c3-aa1e-4176630bbd35"
   },
   "outputs": [
    {
     "name": "stdout",
     "output_type": "stream",
     "text": [
      "WARNING:tensorflow:From /usr/local/lib/python3.6/dist-packages/keras/backend/tensorflow_backend.py:3239: where (from tensorflow.python.ops.array_ops) is deprecated and will be removed in a future version.\n",
      "Instructions for updating:\n",
      "Use tf.where in 2.0, which has the same broadcast rule as np.where\n",
      "Model: \"sequential_8\"\n",
      "_________________________________________________________________\n",
      "Layer (type)                 Output Shape              Param #   \n",
      "=================================================================\n",
      "masking_1 (Masking)          (None, 2, 26)             0         \n",
      "_________________________________________________________________\n",
      "lstm_8 (LSTM)                (None, 100)               50800     \n",
      "_________________________________________________________________\n",
      "dropout_11 (Dropout)         (None, 100)               0         \n",
      "_________________________________________________________________\n",
      "dense_10 (Dense)             (None, 200)               20200     \n",
      "_________________________________________________________________\n",
      "dropout_12 (Dropout)         (None, 200)               0         \n",
      "_________________________________________________________________\n",
      "dense_11 (Dense)             (None, 2)                 402       \n",
      "_________________________________________________________________\n",
      "activation_5 (Activation)    (None, 2)                 0         \n",
      "=================================================================\n",
      "Total params: 71,402\n",
      "Trainable params: 71,402\n",
      "Non-trainable params: 0\n",
      "_________________________________________________________________\n",
      "None\n",
      "WARNING:tensorflow:From /usr/local/lib/python3.6/dist-packages/keras/backend/tensorflow_backend.py:1033: The name tf.assign_add is deprecated. Please use tf.compat.v1.assign_add instead.\n",
      "\n",
      "WARNING:tensorflow:From /usr/local/lib/python3.6/dist-packages/keras/backend/tensorflow_backend.py:1020: The name tf.assign is deprecated. Please use tf.compat.v1.assign instead.\n",
      "\n",
      "WARNING:tensorflow:From /usr/local/lib/python3.6/dist-packages/keras/backend/tensorflow_backend.py:3005: The name tf.Session is deprecated. Please use tf.compat.v1.Session instead.\n",
      "\n",
      "Train on 24000 samples, validate on 8000 samples\n",
      "Epoch 1/3\n",
      "WARNING:tensorflow:From /usr/local/lib/python3.6/dist-packages/keras/backend/tensorflow_backend.py:190: The name tf.get_default_session is deprecated. Please use tf.compat.v1.get_default_session instead.\n",
      "\n",
      "WARNING:tensorflow:From /usr/local/lib/python3.6/dist-packages/keras/backend/tensorflow_backend.py:197: The name tf.ConfigProto is deprecated. Please use tf.compat.v1.ConfigProto instead.\n",
      "\n",
      "WARNING:tensorflow:From /usr/local/lib/python3.6/dist-packages/keras/backend/tensorflow_backend.py:207: The name tf.global_variables is deprecated. Please use tf.compat.v1.global_variables instead.\n",
      "\n",
      "WARNING:tensorflow:From /usr/local/lib/python3.6/dist-packages/keras/backend/tensorflow_backend.py:216: The name tf.is_variable_initialized is deprecated. Please use tf.compat.v1.is_variable_initialized instead.\n",
      "\n",
      "WARNING:tensorflow:From /usr/local/lib/python3.6/dist-packages/keras/backend/tensorflow_backend.py:223: The name tf.variables_initializer is deprecated. Please use tf.compat.v1.variables_initializer instead.\n",
      "\n",
      "24000/24000 [==============================] - 3s 117us/step - loss: 0.0424 - val_loss: 0.0154\n",
      "\n",
      "Epoch 00001: val_loss improved from inf to 0.01537, saving model to best_weights_daily.hdf5\n",
      "Epoch 2/3\n",
      "24000/24000 [==============================] - 1s 59us/step - loss: 0.0155 - val_loss: 0.0154\n",
      "\n",
      "Epoch 00002: val_loss did not improve from 0.01537\n",
      "Epoch 3/3\n",
      "24000/24000 [==============================] - 1s 60us/step - loss: 0.0155 - val_loss: 0.0154\n",
      "\n",
      "Epoch 00003: val_loss did not improve from 0.01537\n"
     ]
    }
   ],
   "source": [
    "def build_lstm_model(input_data, output_size, neurons=20, activ_func='relu',\n",
    "                     dropout=.4, loss='mae', loss_weights=None, sample_weight_mode=None,\n",
    "                     optimizer='adam'):\n",
    "    model = Sequential()\n",
    "    # https://stackoverflow.com/questions/49670832/keras-lstm-with-masking-layer-for-variable-length-inputs\n",
    "    # https://www.quora.com/What-is-masking-in-a-recurrent-neural-network-RNN\n",
    "    model.add(Masking(mask_value=0., input_shape=(input_data.shape[1], input_data.shape[2])))\n",
    "    model.add(LSTM(neurons, input_shape=(input_data.shape[1], input_data.shape[2]))) \n",
    "    model.add(Dropout(dropout))\n",
    "    model.add(Dense(units=2 * neurons))\n",
    "    model.add(Dropout(dropout))\n",
    "    model.add(Dense(units=output_size))\n",
    "    model.add(Activation(activ_func))\n",
    "    model.compile(loss=loss, loss_weights=loss_weights, sample_weight_mode=sample_weight_mode, optimizer=optimizer)\n",
    "    print(model.summary())\n",
    "    return model\n",
    "  \n",
    "lstm_neurons = 100\n",
    "epochs = 3\n",
    "batch_size = 500\n",
    "loss = 'mae'\n",
    "dropout = 0.20\n",
    "\n",
    "checkpointer_daily = ModelCheckpoint(filepath='best_weights_daily.hdf5', \n",
    "                               verbose=1, save_best_only=True)\n",
    "model_daily = build_lstm_model(X_train_daily, y_train_daily.shape[1], neurons=lstm_neurons, \n",
    "                               activ_func='relu', optimizer='adam',\n",
    "                               dropout=0.3)\n",
    "history_daily = model_daily.fit(X_train_daily, y_train_daily, validation_split=0.25, batch_size=batch_size, \n",
    "                           verbose=1, shuffle=True,\n",
    "                          epochs=epochs, callbacks=[checkpointer_daily])"
   ]
  },
  {
   "cell_type": "code",
   "execution_count": 46,
   "metadata": {
    "colab": {
     "base_uri": "https://localhost:8080/",
     "height": 33
    },
    "colab_type": "code",
    "id": "dYPtDp6wJUUo",
    "outputId": "ff28620e-8deb-427d-cf46-95ec1a5b8300"
   },
   "outputs": [
    {
     "data": {
      "text/plain": [
       "(array([], dtype=int64), array([], dtype=int64))"
      ]
     },
     "execution_count": 46,
     "metadata": {
      "tags": []
     },
     "output_type": "execute_result"
    }
   ],
   "source": [
    "np.nonzero(model_daily.predict(X_test_daily))"
   ]
  },
  {
   "cell_type": "code",
   "execution_count": 50,
   "metadata": {
    "colab": {
     "base_uri": "https://localhost:8080/",
     "height": 282
    },
    "colab_type": "code",
    "id": "GoNPXgeF1Zch",
    "outputId": "ec64c57e-ec3b-4a70-a0f8-ce3a31d1ff04"
   },
   "outputs": [
    {
     "data": {
      "text/plain": [
       "[<matplotlib.lines.Line2D at 0x7f0b95711f28>]"
      ]
     },
     "execution_count": 50,
     "metadata": {
      "tags": []
     },
     "output_type": "execute_result"
    },
    {
     "data": {
      "image/png": "[encoded data removed]",
      "text/plain": [
       "<Figure size 432x288 with 1 Axes>"
      ]
     },
     "metadata": {
      "tags": []
     },
     "output_type": "display_data"
    }
   ],
   "source": [
    "plt.plot(list(range(0,8000)),y_test_daily['Ret_PlusTwo'].values)"
   ]
  },
  {
   "cell_type": "code",
   "execution_count": 49,
   "metadata": {
    "colab": {
     "base_uri": "https://localhost:8080/",
     "height": 282
    },
    "colab_type": "code",
    "id": "5fdK0sHU05It",
    "outputId": "dc7822fc-6b9d-4c06-8bec-ef035a3a96c3"
   },
   "outputs": [
    {
     "data": {
      "text/plain": [
       "[<matplotlib.lines.Line2D at 0x7f0b958c57b8>]"
      ]
     },
     "execution_count": 49,
     "metadata": {
      "tags": []
     },
     "output_type": "execute_result"
    },
    {
     "data": {
      "image/png": "[encoded data removed]",
      "text/plain": [
       "<Figure size 432x288 with 1 Axes>"
      ]
     },
     "metadata": {
      "tags": []
     },
     "output_type": "display_data"
    }
   ],
   "source": [
    "plt.plot(list(range(0,8000)),y_test_daily['Ret_PlusOne'].values)"
   ]
  },
  {
   "cell_type": "code",
   "execution_count": 53,
   "metadata": {
    "colab": {
     "base_uri": "https://localhost:8080/",
     "height": 282
    },
    "colab_type": "code",
    "id": "4DNAJ0AZ3_uC",
    "outputId": "0f1058b9-8b38-45d6-a0e9-bbaf85d51eb0"
   },
   "outputs": [
    {
     "data": {
      "text/plain": [
       "[<matplotlib.lines.Line2D at 0x7f0b94c40a58>]"
      ]
     },
     "execution_count": 53,
     "metadata": {
      "tags": []
     },
     "output_type": "execute_result"
    },
    {
     "data": {
      "image/png": "[encoded data removed]",
      "text/plain": [
       "<Figure size 432x288 with 1 Axes>"
      ]
     },
     "metadata": {
      "tags": []
     },
     "output_type": "display_data"
    }
   ],
   "source": [
    "plt.plot(list(range(0,18000)),df_rf['Predicted'].values[:18000])"
   ]
  },
  {
   "cell_type": "code",
   "execution_count": 0,
   "metadata": {
    "colab": {},
    "colab_type": "code",
    "id": "vujpiVHooX7L"
   },
   "outputs": [],
   "source": [
    "df_rf=pd.read_csv('randomForest.csv')"
   ]
  },
  {
   "cell_type": "code",
   "execution_count": 8,
   "metadata": {
    "colab": {
     "base_uri": "https://localhost:8080/",
     "height": 33
    },
    "colab_type": "code",
    "id": "Ik30sJ_lohAl",
    "outputId": "1f63ad2b-2f6f-475b-ccce-f31423cbfdf8"
   },
   "outputs": [
    {
     "data": {
      "text/plain": [
       "-0.08943143396428051"
      ]
     },
     "execution_count": 8,
     "metadata": {
      "tags": []
     },
     "output_type": "execute_result"
    }
   ],
   "source": [
    "dict_rf = dict(zip(df_rf.Id, df_rf.Predicted))\n",
    "\n",
    "min(dict_rf.values())"
   ]
  },
  {
   "cell_type": "code",
   "execution_count": 9,
   "metadata": {
    "colab": {
     "base_uri": "https://localhost:8080/",
     "height": 33
    },
    "colab_type": "code",
    "id": "f_QHedwVoyD8",
    "outputId": "6639d44d-8a66-4d68-8d1e-04d9974d8cd8"
   },
   "outputs": [
    {
     "data": {
      "text/plain": [
       "0.07299291501881425"
      ]
     },
     "execution_count": 9,
     "metadata": {
      "tags": []
     },
     "output_type": "execute_result"
    }
   ],
   "source": [
    "max(dict_rf.values())"
   ]
  },
  {
   "cell_type": "code",
   "execution_count": 0,
   "metadata": {
    "colab": {},
    "colab_type": "code",
    "id": "Uh7UPtyspjOI"
   },
   "outputs": [],
   "source": [
    "dict_rf['84_1']=-0.9"
   ]
  },
  {
   "cell_type": "code",
   "execution_count": 17,
   "metadata": {
    "colab": {
     "base_uri": "https://localhost:8080/",
     "height": 33
    },
    "colab_type": "code",
    "id": "rUwO_qgXpFdP",
    "outputId": "2ca32c9b-96ce-4d10-b304-1df15da1b61a"
   },
   "outputs": [
    {
     "data": {
      "text/plain": [
       "-1e-05"
      ]
     },
     "execution_count": 17,
     "metadata": {
      "tags": []
     },
     "output_type": "execute_result"
    }
   ],
   "source": [
    "0 if dict_rf['84_1']==0 else  10e-6 if dict_rf['84_1']> 0 else -10e-6"
   ]
  },
  {
   "cell_type": "code",
   "execution_count": 54,
   "metadata": {
    "colab": {
     "base_uri": "https://localhost:8080/",
     "height": 33
    },
    "colab_type": "code",
    "id": "3DBhSq31pzD7",
    "outputId": "48bbd6d7-4fca-41c7-80ed-5c5645f92915"
   },
   "outputs": [
    {
     "data": {
      "text/plain": [
       "-8.699173362735828e-06"
      ]
     },
     "execution_count": 54,
     "metadata": {
      "tags": []
     },
     "output_type": "execute_result"
    }
   ],
   "source": [
    "dict_rf['1_1']"
   ]
  },
  {
   "cell_type": "code",
   "execution_count": 55,
   "metadata": {
    "colab": {
     "base_uri": "https://localhost:8080/",
     "height": 67
    },
    "colab_type": "code",
    "id": "G8xm-bYwpCUb",
    "outputId": "796e4996-91e0-44d3-88de-2ebc58535950"
   },
   "outputs": [
    {
     "name": "stdout",
     "output_type": "stream",
     "text": [
      "Warning: Looks like you're using an outdated API Version, please consider updating (server 1.5.6 / client 1.5.4)\n",
      "100% 110M/110M [00:03<00:00, 38.0MB/s]\n",
      "Successfully submitted to The Winton Stock Market Challenge"
     ]
    }
   ],
   "source": [
    "major_list=[]\n",
    "for i in range(1,120000+1):\n",
    "  for j in range(1,62+1):\n",
    "    k=str(i)+'_'+str(j)\n",
    "    major_list.append({'Id': k,\n",
    "                       'Predicted': 0 if dict_rf[k]==0 else  10e-7 if dict_rf[k]> 0 else -10e-7\n",
    "                      })\n",
    "\n",
    "output = pd.DataFrame(data=major_list)\n",
    "output.to_csv(path_or_buf=\"solution.csv\",index=False)\n",
    "!kaggle competitions submit -c the-winton-stock-market-challenge -f solution.csv -m \" RF with squashing results\""
   ]
  }
 ],
 "metadata": {
  "accelerator": "TPU",
  "colab": {
   "collapsed_sections": [],
   "name": "Untitled4.ipynb",
   "provenance": []
  },
  "kernelspec": {
   "display_name": "Python 3",
   "language": "python",
   "name": "python3"
  },
  "language_info": {
   "codemirror_mode": {
    "name": "ipython",
    "version": 3
   },
   "file_extension": ".py",
   "mimetype": "text/x-python",
   "name": "python",
   "nbconvert_exporter": "python",
   "pygments_lexer": "ipython3",
   "version": "3.6.8"
  }
 },
 "nbformat": 4,
 "nbformat_minor": 1
}
